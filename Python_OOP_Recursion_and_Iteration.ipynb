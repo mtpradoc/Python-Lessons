{
  "nbformat": 4,
  "nbformat_minor": 0,
  "metadata": {
    "colab": {
      "name": "Python OOP - Recursion and Iteration.ipynb",
      "provenance": [],
      "collapsed_sections": [],
      "authorship_tag": "ABX9TyOKWUVHFIVH5x+B6LwXdl86"
    },
    "kernelspec": {
      "name": "python3",
      "display_name": "Python 3"
    },
    "language_info": {
      "name": "python"
    }
  },
  "cells": [
    {
      "cell_type": "markdown",
      "metadata": {
        "id": "hbbtqSsJSDFY"
      },
      "source": [
        "#Python OOP - Recursion and Iteration"
      ]
    },
    {
      "cell_type": "markdown",
      "metadata": {
        "id": "wdNvyJZI8I-c"
      },
      "source": [
        "Write a program that:\n",
        "\n",
        "- include a class that accepts a list of numbers on instantiation.\n",
        "\n",
        "- in the class, write a method that recursively returns the upper bound (maximum), and\n",
        "\n",
        "- write another method that iteratively find the lower bound (minimum)_.  \n",
        "\n",
        "- next create a main function area that reads in the contents from a .CSV file to create an array or list data structure. That data structure should be passed to the class you just developed.\n",
        "\n",
        "- finally, upload a  5 minutes recording walking us through your code execution and an explanation of your code design (you can use any recording technology and you can provide a YouTube URL for that if you want)\n",
        "\n",
        "The CSV will be provided for this assignment can be accessed here:\n",
        "\n",
        "random_numbers.csv download\n",
        "\n",
        "** Any extra \"flair\" or robustness put into the assignment will be considered as this is an examination to determine your MASTERY of programming. The way you demonstrate that is by showing me what you can do. That being said, remember to also complete the task at hand as described above. \n",
        "\n",
        "This can include but is not limited to:\n",
        "\n",
        "Error handling, decorators, a simple CLI interface, and so on.\n",
        "\n"
      ]
    },
    {
      "cell_type": "markdown",
      "metadata": {
        "id": "W3cJmsl5BMtl"
      },
      "source": [
        "**Class that accepts a list of numbers on instantiation**"
      ]
    },
    {
      "cell_type": "code",
      "metadata": {
        "id": "R4NDqqOV7_jD"
      },
      "source": [
        "class ListOfNumbers:\n",
        "  \"\"\"\n",
        "  A class to represent a list object.\n",
        "\n",
        "  Attributes\n",
        "  ----------\n",
        "  data : list\n",
        "      list of numbers\n",
        "  \"\"\"\n",
        "  def __init__(self, data =None):\n",
        "    \"\"\"\n",
        "    Constructs all the necessary attributes for the ListOfNumbers object.\n",
        "\n",
        "    Parameters\n",
        "    ----------\n",
        "        data : default value None\n",
        "              None value to store our list  \n",
        "    \"\"\"  \n",
        "    if data is None:\n",
        "      data = []\n",
        "    self.data = data"
      ],
      "execution_count": 12,
      "outputs": []
    },
    {
      "cell_type": "code",
      "metadata": {
        "colab": {
          "base_uri": "https://localhost:8080/"
        },
        "id": "YtPGrnDnAGsM",
        "outputId": "bbf309b8-d687-4696-c189-e65f7e1d61d0"
      },
      "source": [
        "a = ListOfNumbers([5,4])\n",
        "print(a.data)"
      ],
      "execution_count": 13,
      "outputs": [
        {
          "output_type": "stream",
          "text": [
            "[5, 4]\n"
          ],
          "name": "stdout"
        }
      ]
    },
    {
      "cell_type": "markdown",
      "metadata": {
        "id": "4stnpjjkBVAr"
      },
      "source": [
        "**In the class, write a method that recursively returns the upper bound (maximum)**"
      ]
    },
    {
      "cell_type": "code",
      "metadata": {
        "id": "JHOU9A6VAPpy"
      },
      "source": [
        "class ListOfNumbers:\n",
        "  \"\"\"\n",
        "  A class to represent a list object.\n",
        "\n",
        "  ...\n",
        "\n",
        "  Attributes\n",
        "  ----------\n",
        "  data : list\n",
        "       list of numbers\n",
        "\n",
        "  Methods\n",
        "  -------\n",
        "  MaxNnum(nList=None):\n",
        "       Returns the maximum number in the list using recursion\n",
        "  MinNum():\n",
        "       Returns the minimum number in the list using iteration\n",
        "    \n",
        "  \"\"\"\n",
        "  def __init__(self, data=None):\n",
        "    \"\"\"\n",
        "    Constructs all the necessary attributes for the ListOfNumbers object.\n",
        "\n",
        "    Parameters\n",
        "    ----------\n",
        "        data : default value None\n",
        "            data will store our list\n",
        "    \"\"\" \n",
        "    if data is None:\n",
        "      data = []\n",
        "    self.data = data\n",
        "\n",
        "  def MaxNum(self,nlist=None):\n",
        "    \"\"\"\n",
        "    Method to find the maximum value in a list of numbers\n",
        "\n",
        "        Parameters\n",
        "        ----------\n",
        "        nlist : list, optional\n",
        "            nlist will be populated with self.data (default is None)\n",
        "\n",
        "        Returns\n",
        "        -------\n",
        "        mx : int\n",
        "            maximum number in the list\n",
        "    \"\"\"\n",
        "    if nlist == None:\n",
        "      nlist = self.data\n",
        "    if len(nlist) == 1:\n",
        "      return nlist[0]\n",
        "    else:\n",
        "      mx = self.MaxNum(nlist[1:])\n",
        "      return mx if mx > nlist[0] else nlist[0]\n",
        " "
      ],
      "execution_count": 14,
      "outputs": []
    },
    {
      "cell_type": "code",
      "metadata": {
        "colab": {
          "base_uri": "https://localhost:8080/"
        },
        "id": "DWNFw8pIDfrz",
        "outputId": "4b3f97e7-3d6f-4d1c-f980-776cbf2cce39"
      },
      "source": [
        "a = ListOfNumbers([5,8,68,48,958])\n",
        "print(a.MaxNum())"
      ],
      "execution_count": 15,
      "outputs": [
        {
          "output_type": "stream",
          "text": [
            "958\n"
          ],
          "name": "stdout"
        }
      ]
    },
    {
      "cell_type": "markdown",
      "metadata": {
        "id": "qPsd_QyzNDSF"
      },
      "source": [
        "**Write another method that iteratively find the lower bound (minimum)**\n"
      ]
    },
    {
      "cell_type": "code",
      "metadata": {
        "id": "QVriQTNUDpu4"
      },
      "source": [
        "class ListOfNumbers:\n",
        "  \"\"\"\n",
        "  A class to represent a list object.\n",
        "\n",
        "  ...\n",
        "\n",
        "  Attributes\n",
        "  ----------\n",
        "  data : list\n",
        "       list of numbers\n",
        "\n",
        "  Methods\n",
        "  -------\n",
        "  MaxNnum(nList)=None):\n",
        "       Returns the maximum number in the list\n",
        "  MinNum():\n",
        "       Returns the minimum number in the list using iteration\n",
        "    \n",
        "  \"\"\"\n",
        "  def __init__(self, data =None):\n",
        "    \"\"\"\n",
        "    Constructs all the necessary attributes for the ListOfNumbers object.\n",
        "\n",
        "    Parameters\n",
        "    ----------\n",
        "        data : default value None\n",
        "            data will store our list\n",
        "    \"\"\" \n",
        "\n",
        "    if data is None:\n",
        "      data = []\n",
        "    self.data = data\n",
        "\n",
        "  def MaxNum(self, nlist=None):\n",
        "    \"\"\"\n",
        "    Method to find the maximum value in a list of numbers using recursion\n",
        "\n",
        "        Parameters\n",
        "        ----------\n",
        "        nlist : list, optional\n",
        "            nlist will be populated with self.data (default is None)\n",
        "\n",
        "        Returns\n",
        "        -------\n",
        "        mx : int\n",
        "            maximum number in the list\n",
        "    \"\"\"\n",
        "    if nlist == None:\n",
        "      nlist = self.data\n",
        "    if len(nlist) == 1:\n",
        "      return nlist[0]\n",
        "    else:\n",
        "      mx = self.MaxNum(nlist[1:])\n",
        "      return m if mx > nlist[0] else nlist[0]\n",
        "  \n",
        "  def MinNum(self):\n",
        "    \"\"\"\n",
        "    Method to find the minimum value in a list of numbers using iteration\n",
        "\n",
        "        Returns\n",
        "        -------\n",
        "        mn : int\n",
        "            minimum number in the list\n",
        "    \"\"\"\n",
        "    mn = self.data[0]\n",
        "    for n in self.data:\n",
        "      if n <= mn:\n",
        "        mn = n\n",
        "    return mn"
      ],
      "execution_count": 16,
      "outputs": []
    },
    {
      "cell_type": "code",
      "metadata": {
        "colab": {
          "base_uri": "https://localhost:8080/"
        },
        "id": "ZlqHxERKUn0b",
        "outputId": "f871f2ec-b51a-4b57-812d-b81fbea0299a"
      },
      "source": [
        "a = ListOfNumbers([5,8,68,48,958])\n",
        "print(a.MinNum())"
      ],
      "execution_count": 17,
      "outputs": [
        {
          "output_type": "stream",
          "text": [
            "5\n"
          ],
          "name": "stdout"
        }
      ]
    },
    {
      "cell_type": "markdown",
      "metadata": {
        "id": "1LnJKi6YU73e"
      },
      "source": [
        "**Next create a main function area that reads in the contents from a .CSV file to create an array or list data structure. That data structure should be passed to the class you just developed.**"
      ]
    },
    {
      "cell_type": "code",
      "metadata": {
        "colab": {
          "base_uri": "https://localhost:8080/"
        },
        "id": "x_gV2tS9UrLl",
        "outputId": "5df721f2-92f0-4653-f417-6c6013730430"
      },
      "source": [
        "class ListOfNumbers:\n",
        "  \"\"\"\n",
        "  A class to represent a list object.\n",
        "\n",
        "  ...\n",
        "\n",
        "  Attributes\n",
        "  ----------\n",
        "  data : list\n",
        "       list of numbers\n",
        "\n",
        "  Methods\n",
        "  -------\n",
        "  MaxNnum(nList)=None):\n",
        "       Returns the maximum number in the list\n",
        "  MinNum():\n",
        "       Returns the minimum number in the list using iteration\n",
        "    \n",
        "  \"\"\"\n",
        "  def __init__(self, data=None):\n",
        "    \"\"\"\n",
        "    Constructs all the necessary attributes for the ListOfNumbers object.\n",
        "\n",
        "    Parameters\n",
        "    ----------\n",
        "        data : default value None\n",
        "            data will store our list\n",
        "    \"\"\" \n",
        "    if data is None:\n",
        "      data = []\n",
        "    self.data = data\n",
        "\n",
        "  def MaxNum(self, nlist=None):\n",
        "    \"\"\"\n",
        "    Method to find the maximum value in a list of numbers using recursion\n",
        "\n",
        "        Parameters\n",
        "        ----------\n",
        "        nlist : list, optional\n",
        "            nlist will be populated with self.data (default is None)\n",
        "\n",
        "        Returns\n",
        "        -------\n",
        "        mx : int\n",
        "            maximum number in the list\n",
        "    \"\"\"    \n",
        "    if nlist == None:\n",
        "      nlist = self.data\n",
        "    if len(nlist) == 1:\n",
        "      return nlist[0]\n",
        "    else:\n",
        "      mx = self.MaxNum(nlist[1:])\n",
        "      return mx if mx > nlist[0] else nlist[0]\n",
        "  \n",
        "  def MinNum(self):\n",
        "    \"\"\"\n",
        "    Method to find the minimum value in a list of numbers using iteration\n",
        "\n",
        "        Returns\n",
        "        -------\n",
        "        mn : int\n",
        "            minimum number in the list\n",
        "    \"\"\"\n",
        "    mn = self.data[0]\n",
        "    for n in self.data:\n",
        "      if n <= mn:\n",
        "        mn = n\n",
        "    return mn\n",
        "\n",
        "def main():\n",
        "  \"\"\"\n",
        "  Opens a file and create and instance of the Class ListOfNumbers. \n",
        "  Then prints the min and max numbers in the list of random numbers using the methods of the class ListOfNumbers.\n",
        "\n",
        "      Returns\n",
        "      -------\n",
        "      None\n",
        "  \"\"\"  \n",
        "  try:\n",
        "    with open('random_numbers.csv', mode='r', encoding='utf-8-sig') as f:\n",
        "      lst = [int(x) for x in f.read().split(\",\")]\n",
        "    y = ListOfNumbers(lst)\n",
        "    print(f\"The minimum number in the file provided is {y.MinNum()}\")\n",
        "    print(f\"The maximum number in the file provided is {y.MaxNum()}\")\n",
        "    return\n",
        "  except Exception as err:\n",
        "    print(f\"Unexpected error opening random_numbers.csv is\",repr(err))\n",
        "    exit(1)\n",
        "\n",
        "if __name__ == \"__main__\":\n",
        "  main()"
      ],
      "execution_count": 18,
      "outputs": [
        {
          "output_type": "stream",
          "text": [
            "The minimum number in the file provided is 136\n",
            "The maximum number in the file provided is 9995\n"
          ],
          "name": "stdout"
        }
      ]
    },
    {
      "cell_type": "markdown",
      "metadata": {
        "id": "cq8rH-NBt9t4"
      },
      "source": [
        "** Any extra \"flair\" or robustness put into the assignment will be considered as this is an examination to determine your MASTERY of programming. The way you demonstrate that is by showing me what you can do. That being said, remember to also complete the task at hand as described above.\n",
        "\n",
        "This can include but is not limited to:\n",
        "\n",
        "Error handling, decorators, a simple CLI interface, and so on."
      ]
    },
    {
      "cell_type": "markdown",
      "metadata": {
        "id": "w6UBwcaqR6Jy"
      },
      "source": [
        "**Adding decorators**"
      ]
    },
    {
      "cell_type": "code",
      "metadata": {
        "colab": {
          "base_uri": "https://localhost:8080/"
        },
        "id": "sumQvFc2qhdp",
        "outputId": "5abcd310-39bc-4acb-b641-455de5ab4a9f"
      },
      "source": [
        "class ListOfNumbers:\n",
        "  \"\"\"\n",
        "  A class to represent a list object.\n",
        "\n",
        "  ...\n",
        "\n",
        "  Attributes\n",
        "  ----------\n",
        "  data : list\n",
        "       list of numbers\n",
        "\n",
        "  Methods\n",
        "  -------\n",
        "  MaxNnum(nList)=None):\n",
        "       Returns the maximum number in the list\n",
        "  MinNum():\n",
        "       Returns the minimum number in the list using iteration\n",
        "    \n",
        "  \"\"\"\n",
        "  def __init__(self, data=None):\n",
        "    \"\"\"\n",
        "    Constructs all the necessary attributes for the ListOfNumbers object.\n",
        "\n",
        "    Parameters\n",
        "    ----------\n",
        "        data : default value None\n",
        "            data will store our list\n",
        "    \"\"\" \n",
        "    if data is None:\n",
        "      data = []\n",
        "    self.data = data\n",
        "  \n",
        "  def _MaxNum(self, nlist=None):\n",
        "    \"\"\"\n",
        "    Method to find the maximum value in a list of numbers using recursion\n",
        "\n",
        "        Parameters\n",
        "        ----------\n",
        "        nlist : list, optional\n",
        "            nlist will be populated with self.data (default is None)\n",
        "\n",
        "        Returns\n",
        "        -------\n",
        "        mx : int\n",
        "            maximum number in the list\n",
        "    \"\"\"  \n",
        "    if nlist == None:\n",
        "      nlist = self.data\n",
        "    if len(nlist) == 1:\n",
        "      return nlist[0]\n",
        "    else:\n",
        "      mx = self._MaxNum(nlist[1:])\n",
        "      return mx if mx > nlist[0] else nlist[0]\n",
        "  \n",
        "  MaxNum = property(_MaxNum) #Calling the property decorator as function therefore our class recognize MaxNum as attribute\n",
        "\n",
        "  @property #decorator to treat MinNum as an attribute at the moment of calling it\n",
        "  def MinNum(self):\n",
        "    \"\"\"\n",
        "    Method to find the minimum value in a list of numbers using iteration\n",
        "\n",
        "        Returns\n",
        "        -------\n",
        "        mn : int\n",
        "            minimum number in the list\n",
        "    \"\"\"\n",
        "    mn = self.data[0]\n",
        "    for n in self.data:\n",
        "      if n <= mn:\n",
        "        mn = n\n",
        "    return mn\n",
        "\n",
        "def main():\n",
        "  \"\"\"\n",
        "  Opens a file and calls the Class ListOfNumbers. \n",
        "  Then prints the min and max numbers in the list of random numbers.\n",
        "\n",
        "      Returns\n",
        "      -------\n",
        "      None\n",
        "  \"\"\" \n",
        "  try:\n",
        "    with open('random_numbers.csv', mode='r', encoding='utf-8-sig') as f:\n",
        "      lst = [int(x) for x in f.read().split(\",\")]\n",
        "    y = ListOfNumbers(lst)\n",
        "    print(f\"The minimum number in the file provided is {y.MinNum}\")\n",
        "    print(f\"The maximum number in the file provided is {y.MaxNum}\")\n",
        "    return\n",
        "  except Exception as err:\n",
        "    print(f\"Unexpected error opening random_numbers.csv is\",repr(err))\n",
        "    exit(1)  \n",
        "\n",
        "if __name__ == \"__main__\":\n",
        "  main()"
      ],
      "execution_count": 11,
      "outputs": [
        {
          "output_type": "stream",
          "text": [
            "The minimum number in the file provided is 136\n",
            "The maximum number in the file provided is 9995\n"
          ],
          "name": "stdout"
        }
      ]
    },
    {
      "cell_type": "code",
      "metadata": {
        "id": "YfmQCNWV3kPn"
      },
      "source": [
        ""
      ],
      "execution_count": null,
      "outputs": []
    }
  ]
}